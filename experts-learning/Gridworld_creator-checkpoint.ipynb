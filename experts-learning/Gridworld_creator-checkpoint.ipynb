{
 "cells": [
  {
   "cell_type": "code",
   "execution_count": 446,
   "metadata": {
    "collapsed": true
   },
   "outputs": [],
   "source": [
    "def set_random_s0(env):\n",
    "    rand_s0 = np.random.choice(np.array(np.where(env.grid_map)).flatten())\n",
    "    #print(rand_s0)\n",
    "    env.isd = np.zeros(env.shape[0] * env.shape[1])\n",
    "    env.isd[rand_s0] = 1 "
   ]
  },
  {
   "cell_type": "code",
   "execution_count": 447,
   "metadata": {
    "collapsed": true
   },
   "outputs": [],
   "source": [
    "import numpy as np\n",
    "import sys\n",
    "from gym.envs.toy_text import discrete\n",
    "\n",
    "UP = 0\n",
    "RIGHT = 1\n",
    "DOWN = 2\n",
    "LEFT = 3\n",
    "\n",
    "class GridworldEnv(discrete.DiscreteEnv):\n",
    "\n",
    "    metadata = {'render.modes': ['human', 'ansi']}\n",
    "\n",
    "    def __init__(self, shape, grid_map):\n",
    "        if not isinstance(shape, (list, tuple)) or not len(shape) == 2:\n",
    "            raise ValueError('shape argument must be a list/tuple of length 2')\n",
    "        \n",
    "        self.grid_map = grid_map\n",
    "        \n",
    "        self.shape = shape\n",
    "\n",
    "        nS = np.prod(shape)\n",
    "        nA = 4\n",
    "\n",
    "        MAX_Y = shape[0]\n",
    "        MAX_X = shape[1]\n",
    "\n",
    "        P = {}\n",
    "        grid = np.arange(nS).reshape(shape)\n",
    "        it = np.nditer(grid, flags=['multi_index'])\n",
    "\n",
    "        while not it.finished:\n",
    "            s = it.iterindex\n",
    "            y, x = it.multi_index\n",
    "\n",
    "            P[s] = {a : [] for a in range(nA)}\n",
    "\n",
    "            is_done = lambda s: False\n",
    "            reward = 0.0 if is_done(s) else -1.0\n",
    "\n",
    "            # We're stuck in a terminal state\n",
    "            if is_done(s):\n",
    "                P[s][UP] = [(1.0, s, reward, True)]\n",
    "                P[s][RIGHT] = [(1.0, s, reward, True)]\n",
    "                P[s][DOWN] = [(1.0, s, reward, True)]\n",
    "                P[s][LEFT] = [(1.0, s, reward, True)]\n",
    "            # Not a terminal state\n",
    "            else:\n",
    "                ns_up = s if y == 0 or self.grid_map[s - MAX_X] == 0 else s - MAX_X\n",
    "                ns_right = s if x == (MAX_X - 1) or self.grid_map[s + 1] == 0 else s + 1\n",
    "                ns_down = s if y == (MAX_Y - 1) or self.grid_map[s + MAX_X] == 0 else s + MAX_X\n",
    "                ns_left = s if x == 0 or self.grid_map[s - 1] == 0 else s - 1\n",
    "                P[s][UP] = [(1.0, ns_up, reward, is_done(ns_up))]\n",
    "                P[s][RIGHT] = [(1.0, ns_right, reward, is_done(ns_right))]\n",
    "                P[s][DOWN] = [(1.0, ns_down, reward, is_done(ns_down))]\n",
    "                P[s][LEFT] = [(1.0, ns_left, reward, is_done(ns_left))]\n",
    "\n",
    "            it.iternext()\n",
    "\n",
    "        # Initial state distribution is uniform\n",
    "        isd = np.ones(nS) / nS * self.grid_map \n",
    "\n",
    "        # We expose the model of the environment for educational purposes\n",
    "        # This should not be used in any model-free learning algorithm\n",
    "        self.P = P\n",
    "\n",
    "        super(GridworldEnv, self).__init__(nS, nA, P, isd)\n",
    "\n",
    "    def _render(self, mode='human', close=False):\n",
    "        if close:\n",
    "            return\n",
    "\n",
    "        outfile = StringIO() if mode == 'ansi' else sys.stdout\n",
    "\n",
    "        grid = np.arange(self.nS).reshape(self.shape)\n",
    "        it = np.nditer(grid, flags=['multi_index'])\n",
    "        while not it.finished:\n",
    "            s = it.iterindex\n",
    "            y, x = it.multi_index\n",
    "\n",
    "            if self.s == s:\n",
    "                output = \" x \"\n",
    "            elif s == 0 or s == self.nS - 1:\n",
    "                output = \" T \"\n",
    "            else:\n",
    "                output = \" o \"\n",
    "\n",
    "            if x == 0:\n",
    "                output = output.lstrip() \n",
    "            if x == self.shape[1] - 1:\n",
    "                output = output.rstrip()\n",
    "\n",
    "            outfile.write(output)\n",
    "\n",
    "            if x == self.shape[1] - 1:\n",
    "                outfile.write(\"\\n\")\n",
    "\n",
    "            it.iternext()"
   ]
  },
  {
   "cell_type": "code",
   "execution_count": 306,
   "metadata": {
    "collapsed": false
   },
   "outputs": [],
   "source": [
    "SHAPE = (3,  3)\n",
    "grid_map = np.array([1, 1, 0, 0, 1, 0, 0, 1, 1])\n",
    "env = GridworldEnv(SHAPE, grid_map)"
   ]
  },
  {
   "cell_type": "code",
   "execution_count": 307,
   "metadata": {
    "collapsed": false
   },
   "outputs": [],
   "source": [
    "heat_map = np.zeros((3, 3))\n",
    "for i in range(1000):\n",
    "    set_random_s0(env)\n",
    "    s = env.reset()\n",
    "    heat_map[s // 3][s % 3] += 1"
   ]
  },
  {
   "cell_type": "code",
   "execution_count": 308,
   "metadata": {
    "collapsed": false
   },
   "outputs": [
    {
     "data": {
      "text/plain": [
       "array([[185., 205.,   0.],\n",
       "       [  0., 197.,   0.],\n",
       "       [  0., 188., 225.]])"
      ]
     },
     "execution_count": 308,
     "metadata": {},
     "output_type": "execute_result"
    }
   ],
   "source": [
    "heat_map"
   ]
  },
  {
   "cell_type": "code",
   "execution_count": 309,
   "metadata": {
    "collapsed": true
   },
   "outputs": [],
   "source": [
    "np.random.seed(164)"
   ]
  },
  {
   "cell_type": "code",
   "execution_count": 343,
   "metadata": {
    "collapsed": true
   },
   "outputs": [],
   "source": [
    "def play_random_policy(env):\n",
    "    set_random_s0(env)\n",
    "    s = env.reset()\n",
    "    heat_map = np.zeros(SHAPE)\n",
    "    heat_map[s // SHAPE[0]][s % SHAPE[1]] += 1\n",
    "    while s != 0 and s != env.nS - 1:\n",
    "        s, _, _, _ = env.step(np.random.choice([0, 1, 2, 3]))\n",
    "        #print(s)\n",
    "        heat_map[s // SHAPE[0]][s % SHAPE[1]] += 1\n",
    "    return heat_map"
   ]
  },
  {
   "cell_type": "code",
   "execution_count": 344,
   "metadata": {
    "collapsed": true
   },
   "outputs": [],
   "source": [
    "heat_map = np.zeros(SHAPE)"
   ]
  },
  {
   "cell_type": "code",
   "execution_count": 345,
   "metadata": {
    "collapsed": false
   },
   "outputs": [],
   "source": [
    "for i in range(100):\n",
    "    heat_map += play_random_policy(env)"
   ]
  },
  {
   "cell_type": "code",
   "execution_count": 346,
   "metadata": {
    "collapsed": false
   },
   "outputs": [
    {
     "data": {
      "text/plain": [
       "array([[ 52., 135.,   0.],\n",
       "       [  0., 176.,   0.],\n",
       "       [  0., 122.,  48.]])"
      ]
     },
     "execution_count": 346,
     "metadata": {},
     "output_type": "execute_result"
    }
   ],
   "source": [
    "heat_map"
   ]
  },
  {
   "cell_type": "markdown",
   "metadata": {},
   "source": [
    "## Create env data"
   ]
  },
  {
   "cell_type": "markdown",
   "metadata": {},
   "source": [
    "### Simple grid"
   ]
  },
  {
   "cell_type": "code",
   "execution_count": 448,
   "metadata": {
    "collapsed": false
   },
   "outputs": [
    {
     "name": "stdout",
     "output_type": "stream",
     "text": [
      "mkdir: gridworlds_data: File exists\r\n"
     ]
    }
   ],
   "source": [
    "!mkdir gridworlds_data "
   ]
  },
  {
   "cell_type": "code",
   "execution_count": 449,
   "metadata": {
    "collapsed": true
   },
   "outputs": [],
   "source": [
    "!mkdir gridworlds_data/simple_9x9"
   ]
  },
  {
   "cell_type": "code",
   "execution_count": 464,
   "metadata": {
    "collapsed": true
   },
   "outputs": [],
   "source": [
    "SHAPE = (7, 7)\n",
    "grid_map = np.ones(SHAPE[0] * SHAPE[1])\n",
    "env = GridworldEnv(SHAPE, grid_map)"
   ]
  },
  {
   "cell_type": "code",
   "execution_count": 465,
   "metadata": {
    "collapsed": false
   },
   "outputs": [],
   "source": [
    "np.save(\"gridworlds_data/simple_{}x{}/grid_map.npy\".format(SHAPE[0], SHAPE[1]), grid_map)"
   ]
  },
  {
   "cell_type": "code",
   "execution_count": 453,
   "metadata": {
    "collapsed": false
   },
   "outputs": [],
   "source": [
    "!mkdir gridworlds_data/simple_9x9/agents\n",
    "!mkdir gridworlds_data/simple_9x9/agents_left_corner\n",
    "!mkdir gridworlds_data/simple_9x9/agents_right_corner\n",
    "!mkdir gridworlds_data/simple_9x9/agents_global_optimal\n"
   ]
  },
  {
   "cell_type": "code",
   "execution_count": 466,
   "metadata": {
    "collapsed": false
   },
   "outputs": [],
   "source": [
    "left_corner_goals = np.zeros(env.nS)\n",
    "right_corner_goals = np.zeros(env.nS) + env.nS - 1\n",
    "global_optimal_goals = np.zeros(env.nS)\n",
    "for s in range(len(global_optimal_goals)):\n",
    "    if (s // np.sqrt(env.nS) > int(np.sqrt(env.nS)) - (s % int(np.sqrt(env.nS))) - 1):\n",
    "        global_optimal_goals[s] = env.nS - 1"
   ]
  },
  {
   "cell_type": "code",
   "execution_count": 467,
   "metadata": {
    "collapsed": false
   },
   "outputs": [
    {
     "data": {
      "text/plain": [
       "array([[ 0.,  0.,  0.,  0.,  0.,  0.,  0.],\n",
       "       [ 0.,  0.,  0.,  0.,  0.,  0., 48.],\n",
       "       [ 0.,  0.,  0.,  0.,  0., 48., 48.],\n",
       "       [ 0.,  0.,  0.,  0., 48., 48., 48.],\n",
       "       [ 0.,  0.,  0., 48., 48., 48., 48.],\n",
       "       [ 0.,  0., 48., 48., 48., 48., 48.],\n",
       "       [ 0., 48., 48., 48., 48., 48., 48.]])"
      ]
     },
     "execution_count": 467,
     "metadata": {},
     "output_type": "execute_result"
    }
   ],
   "source": [
    "global_optimal_goals.reshape(SHAPE)"
   ]
  },
  {
   "cell_type": "code",
   "execution_count": 468,
   "metadata": {
    "collapsed": false
   },
   "outputs": [],
   "source": [
    "np.save(\"gridworlds_data/simple_{}x{}/agents_left_corner/goal_map\".format(SHAPE[0], SHAPE[1]), left_corner_goals)\n",
    "np.save(\"gridworlds_data/simple_{}x{}/agents_right_corner/goal_map\".format(SHAPE[0], SHAPE[1]), right_corner_goals)\n",
    "np.save(\"gridworlds_data/simple_{}x{}/agents_global_optimal/goal_map\".format(SHAPE[0], SHAPE[1]), global_optimal_goals)"
   ]
  },
  {
   "cell_type": "code",
   "execution_count": 469,
   "metadata": {
    "collapsed": false
   },
   "outputs": [],
   "source": [
    "def get_action_probs(agent_type, env, s):\n",
    "        if(agent_type == 'left_top_corner'):\n",
    "            if(s == 0):\n",
    "                return np.array([0, 0, 0, 0, 1])\n",
    "            if(s % int(np.sqrt(env.nS)) == 0):\n",
    "                return np.array([1, 0, 0, 0, 0])\n",
    "            if(s < int(np.sqrt(env.nS))):\n",
    "                return np.array([0, 0, 0, 1, 0])\n",
    "            return np.array([0.5, 0, 0, 0.5, 0])\n",
    "        if(agent_type == 'right_bottom_corner'):\n",
    "            if(s == env.nS - 1):\n",
    "                return np.array([0, 0, 0, 0, 1])\n",
    "            if((s + 1) % int(np.sqrt(env.nS)) == 0):\n",
    "                return np.array([0, 0, 1, 0, 0])\n",
    "            if(s + int(np.sqrt(env.nS)) >= env.nS):\n",
    "                return np.array([0, 1, 0, 0, 0])\n",
    "            return np.array([0, 0.5, 0.5, 0, 0])\n",
    "        if(agent_type == 'global_optimal'):\n",
    "            if (s // np.sqrt(env.nS) <= int(np.sqrt(env.nS)) - (s % int(np.sqrt(env.nS))) - 1):\n",
    "                if(s == 0):\n",
    "                    return np.array([0, 0, 0, 0, 1])\n",
    "                if s % int(np.sqrt(env.nS)) == 0:\n",
    "                    return np.array([1, 0, 0, 0, 0])  \n",
    "                if s < int(np.sqrt(env.nS)):\n",
    "                    return np.array([0, 0, 0, 1, 0]) \n",
    "                return np.array([0.5, 0, 0, 0.5, 0]) \n",
    "            else:\n",
    "                if(s == env.nS - 1):\n",
    "                    return np.array([0, 0, 0, 0, 1])\n",
    "                if (s + 1) % (int(np.sqrt(env.nS))) == 0:\n",
    "                    return np.array([0, 0, 1, 0, 0])  \n",
    "                if(s + int(np.sqrt(env.nS)) >= env.nS):\n",
    "                    return np.array([0, 1, 0, 0, 0]) \n",
    "                return np.array([0, 0.5, 0.5, 0, 0])\n",
    "\n",
    "def get_value_function(agent_type, env):\n",
    "    v = np.zeros(env.nS)\n",
    "    for s in range(len(v)):\n",
    "        if(agent_type == 'left_top_corner'):\n",
    "            v[s] = -(s % int(np.sqrt(env.nS)) + s // int(np.sqrt(env.nS)))\n",
    "        if(agent_type == 'right_bottom_corner'):\n",
    "            v[s] = (-((int(np.sqrt(env.nS)) - (s % int(np.sqrt(env.nS))) - 1) \n",
    "                    + (int(np.sqrt(env.nS)) - s // int(np.sqrt(env.nS)) - 1)))\n",
    "        if(agent_type == 'global_optimal'):\n",
    "            left_top = s % int(np.sqrt(env.nS)) + s // int(np.sqrt(env.nS))\n",
    "            right_bottom = ((int(np.sqrt(env.nS)) - (s % int(np.sqrt(env.nS))) - 1) \n",
    "                    + (int(np.sqrt(env.nS)) - s // int(np.sqrt(env.nS)) - 1))\n",
    "            v[s] = -min(left_top, right_bottom)\n",
    "    return v\n",
    "           "
   ]
  },
  {
   "cell_type": "code",
   "execution_count": 470,
   "metadata": {
    "collapsed": false
   },
   "outputs": [],
   "source": [
    "left_probs = []\n",
    "right_probs = []\n",
    "global_probs = []\n",
    "for s in range(env.nS):\n",
    "    left_probs.append(get_action_probs(\"left_top_corner\", env, s))\n",
    "    right_probs.append(get_action_probs(\"right_bottom_corner\", env, s))\n",
    "    global_probs.append(get_action_probs(\"global_optimal\", env, s))"
   ]
  },
  {
   "cell_type": "code",
   "execution_count": 471,
   "metadata": {
    "collapsed": false
   },
   "outputs": [
    {
     "data": {
      "text/plain": [
       "array([0.5, 0. , 0. , 0.5, 0. ])"
      ]
     },
     "execution_count": 471,
     "metadata": {},
     "output_type": "execute_result"
    }
   ],
   "source": [
    "left_probs[-1]"
   ]
  },
  {
   "cell_type": "code",
   "execution_count": 472,
   "metadata": {
    "collapsed": false
   },
   "outputs": [],
   "source": [
    "np.save(\"gridworlds_data/simple_{}x{}/agents_left_corner/action_probs\".format(SHAPE[0], SHAPE[1]), left_probs)\n",
    "np.save(\"gridworlds_data/simple_{}x{}/agents_right_corner/action_probs\".format(SHAPE[0], SHAPE[1]), right_probs)\n",
    "np.save(\"gridworlds_data/simple_{}x{}/agents_global_optimal/action_probs\".format(SHAPE[0], SHAPE[1]), global_probs)"
   ]
  },
  {
   "cell_type": "code",
   "execution_count": 473,
   "metadata": {
    "collapsed": false
   },
   "outputs": [],
   "source": [
    "left_value = get_value_function(\"left_top_corner\", env)\n",
    "right_value= get_value_function(\"right_bottom_corner\", env)\n",
    "global_value= get_value_function(\"global_optimal\", env)"
   ]
  },
  {
   "cell_type": "code",
   "execution_count": 474,
   "metadata": {
    "collapsed": true
   },
   "outputs": [],
   "source": [
    "np.save(\"gridworlds_data/simple_{}x{}/agents_left_corner/value_function\".format(SHAPE[0], SHAPE[1]), left_value)\n",
    "np.save(\"gridworlds_data/simple_{}x{}/agents_right_corner/value_function\".format(SHAPE[0], SHAPE[1]), right_value)\n",
    "np.save(\"gridworlds_data/simple_{}x{}/agents_global_optimal/value_function\".format(SHAPE[0], SHAPE[1]), global_value)"
   ]
  },
  {
   "cell_type": "code",
   "execution_count": 476,
   "metadata": {
    "collapsed": false
   },
   "outputs": [
    {
     "data": {
      "text/plain": [
       "array([[ 0., -1., -2., -3., -4., -5., -6.],\n",
       "       [-1., -2., -3., -4., -5., -6., -5.],\n",
       "       [-2., -3., -4., -5., -6., -5., -4.],\n",
       "       [-3., -4., -5., -6., -5., -4., -3.],\n",
       "       [-4., -5., -6., -5., -4., -3., -2.],\n",
       "       [-5., -6., -5., -4., -3., -2., -1.],\n",
       "       [-6., -5., -4., -3., -2., -1.,  0.]])"
      ]
     },
     "execution_count": 476,
     "metadata": {},
     "output_type": "execute_result"
    }
   ],
   "source": [
    "global_value.reshape(SHAPE)"
   ]
  },
  {
   "cell_type": "code",
   "execution_count": 506,
   "metadata": {
    "collapsed": false
   },
   "outputs": [
    {
     "data": {
      "image/png": "[encoded data removed]",
      "text/plain": [
       "<matplotlib.figure.Figure at 0x1151f7128>"
      ]
     },
     "metadata": {},
     "output_type": "display_data"
    }
   ],
   "source": [
    "fig, ax = plt.subplots(nrows=1, ncols=3, figsize=(16, 5))\n",
    "simple = np.load(\"gridworlds_data/simple_7x7/grid_map.npy\").reshape((7, 7)) * 0.8\n",
    "snake = np.load(\"gridworlds_data/snake_7x7/grid_map.npy\").reshape((7, 7)) * 0.3\n",
    "pillar = np.load(\"gridworlds_data/pillar_7x7/grid_map.npy\").reshape((7, 7)) * 0.3\n",
    "\n",
    "simple[0, 0] += 0.5\n",
    "simple[-1, -1] += 0.5\n",
    "\n",
    "pillar[0, 0] += 0.5\n",
    "pillar[-1, -1] += 0.5\n",
    "\n",
    "snake[0, 0] += 0.5\n",
    "snake[-1, -1] += 0.5\n",
    "\n",
    "ax[0].imshow(simple, cmap='hot')\n",
    "ax[0].set_title(\"simple\")\n",
    "ax[1].imshow(snake, cmap='hot')\n",
    "ax[1].set_title(\"snake\")\n",
    "ax[2].imshow(pillar, cmap='hot')\n",
    "ax[2].set_title(\"pillar\")\n",
    "plt.show()"
   ]
  },
  {
   "cell_type": "markdown",
   "metadata": {},
   "source": [
    "### Snake grid"
   ]
  },
  {
   "cell_type": "code",
   "execution_count": 427,
   "metadata": {
    "collapsed": true
   },
   "outputs": [],
   "source": [
    "!mkdir gridworlds_data/snake_9x9"
   ]
  },
  {
   "cell_type": "code",
   "execution_count": 428,
   "metadata": {
    "collapsed": false
   },
   "outputs": [],
   "source": [
    "SHAPE = (9, 9)\n",
    "grid_map = np.ones(SHAPE[0] * SHAPE[1])\n",
    "for i in range(1, SHAPE[0] // 2):\n",
    "    grid_map[SHAPE[0] * i:SHAPE[0] * i + SHAPE[0] - 1] = 0\n",
    "\n",
    "for i in range(SHAPE[0] // 2 + 1, SHAPE[0] - 1):\n",
    "    grid_map[SHAPE[0] * i + 1:SHAPE[0] * i + SHAPE[0]] = 0\n",
    "env = GridworldEnv(SHAPE, grid_map)"
   ]
  },
  {
   "cell_type": "code",
   "execution_count": 430,
   "metadata": {
    "collapsed": false
   },
   "outputs": [
    {
     "data": {
      "text/plain": [
       "array([[1., 1., 1., 1., 1., 1., 1., 1., 1.],\n",
       "       [0., 0., 0., 0., 0., 0., 0., 0., 1.],\n",
       "       [0., 0., 0., 0., 0., 0., 0., 0., 1.],\n",
       "       [0., 0., 0., 0., 0., 0., 0., 0., 1.],\n",
       "       [1., 1., 1., 1., 1., 1., 1., 1., 1.],\n",
       "       [1., 0., 0., 0., 0., 0., 0., 0., 0.],\n",
       "       [1., 0., 0., 0., 0., 0., 0., 0., 0.],\n",
       "       [1., 0., 0., 0., 0., 0., 0., 0., 0.],\n",
       "       [1., 1., 1., 1., 1., 1., 1., 1., 1.]])"
      ]
     },
     "execution_count": 430,
     "metadata": {},
     "output_type": "execute_result"
    }
   ],
   "source": [
    "env.grid_map.reshape(SHAPE)"
   ]
  },
  {
   "cell_type": "code",
   "execution_count": 431,
   "metadata": {
    "collapsed": false
   },
   "outputs": [],
   "source": [
    "np.save(\"gridworlds_data/snake_{}x{}/grid_map.npy\".format(SHAPE[0], SHAPE[1]), grid_map)"
   ]
  },
  {
   "cell_type": "code",
   "execution_count": 432,
   "metadata": {
    "collapsed": false
   },
   "outputs": [],
   "source": [
    "!mkdir gridworlds_data/snake_9x9/agents\n",
    "!mkdir gridworlds_data/snake_9x9/agents_left_corner\n",
    "!mkdir gridworlds_data/snake_9x9/agents_right_corner\n",
    "!mkdir gridworlds_data/snake_9x9/agents_global_optimal"
   ]
  },
  {
   "cell_type": "code",
   "execution_count": 433,
   "metadata": {
    "collapsed": true
   },
   "outputs": [],
   "source": [
    "left_corner_goals = np.zeros(env.nS)\n",
    "right_corner_goals = np.zeros(env.nS) + env.nS - 1\n",
    "global_optimal_goals = np.zeros(env.nS)\n",
    "for s in range(len(global_optimal_goals)):\n",
    "    if (s // np.sqrt(env.nS) > np.sqrt(env.nS) // 2):\n",
    "        global_optimal_goals[s] = env.nS - 1\n",
    "    if (s // np.sqrt(env.nS) == np.sqrt(env.nS) // 2):\n",
    "        if s % np.sqrt(env.nS) < np.sqrt(env.nS) // 2:\n",
    "            global_optimal_goals[s] = env.nS - 1"
   ]
  },
  {
   "cell_type": "code",
   "execution_count": 434,
   "metadata": {
    "collapsed": false
   },
   "outputs": [
    {
     "data": {
      "text/plain": [
       "array([[ 0.,  0.,  0.,  0.,  0.,  0.,  0.,  0.,  0.],\n",
       "       [ 0.,  0.,  0.,  0.,  0.,  0.,  0.,  0.,  0.],\n",
       "       [ 0.,  0.,  0.,  0.,  0.,  0.,  0.,  0.,  0.],\n",
       "       [ 0.,  0.,  0.,  0.,  0.,  0.,  0.,  0.,  0.],\n",
       "       [80., 80., 80., 80.,  0.,  0.,  0.,  0.,  0.],\n",
       "       [80., 80., 80., 80., 80., 80., 80., 80., 80.],\n",
       "       [80., 80., 80., 80., 80., 80., 80., 80., 80.],\n",
       "       [80., 80., 80., 80., 80., 80., 80., 80., 80.],\n",
       "       [80., 80., 80., 80., 80., 80., 80., 80., 80.]])"
      ]
     },
     "execution_count": 434,
     "metadata": {},
     "output_type": "execute_result"
    }
   ],
   "source": [
    "global_optimal_goals.reshape((9, 9))"
   ]
  },
  {
   "cell_type": "code",
   "execution_count": 435,
   "metadata": {
    "collapsed": true
   },
   "outputs": [],
   "source": [
    "np.save(\"gridworlds_data/snake_{}x{}/agents_left_corner/goal_map\".format(SHAPE[0], SHAPE[1]), left_corner_goals)\n",
    "np.save(\"gridworlds_data/snake_{}x{}/agents_right_corner/goal_map\".format(SHAPE[0], SHAPE[1]), right_corner_goals)\n",
    "np.save(\"gridworlds_data/snake_{}x{}/agents_global_optimal/goal_map\".format(SHAPE[0], SHAPE[1]), global_optimal_goals)"
   ]
  },
  {
   "cell_type": "code",
   "execution_count": 436,
   "metadata": {
    "collapsed": false
   },
   "outputs": [],
   "source": [
    "def get_action_probs(agent_type, env, s):\n",
    "    if(agent_type == 'left_top_corner'):\n",
    "        if(s == 0):\n",
    "            return np.array([0, 0, 0, 0, 1])\n",
    "        if(s // int(np.sqrt(env.nS)) == 0):\n",
    "            return np.array([0, 0, 0, 1, 0])\n",
    "        \n",
    "        if(s // int(np.sqrt(env.nS)) == int(np.sqrt(env.nS)) - 1):\n",
    "            if (s % int(np.sqrt(env.nS)) == 0):\n",
    "                return np.array([1, 0, 0, 0, 0])\n",
    "            else:\n",
    "                return np.array([0, 0, 0, 1, 0])\n",
    "        \n",
    "        if(s // int(np.sqrt(env.nS)) == int(np.sqrt(env.nS)) // 2):\n",
    "            if (s % int(np.sqrt(env.nS)) == int(np.sqrt(env.nS)) - 1):\n",
    "                return np.array([1, 0, 0, 0, 0])\n",
    "            else:\n",
    "                return np.array([0, 1, 0, 0, 0])\n",
    "        return np.array([1, 0, 0, 0, 0])\n",
    "    \n",
    "    if(agent_type == 'right_bottom_corner'):\n",
    "        if(s == 0):\n",
    "            return np.array([0, 0, 0, 0, 1])\n",
    "        if(s // int(np.sqrt(env.nS)) == 0):\n",
    "            if (s % int(np.sqrt(env.nS)) == int(np.sqrt(env.nS)) - 1):\n",
    "                return np.array([0, 0, 1, 0, 0])\n",
    "            else:\n",
    "                return np.array([0, 1, 0, 0, 0])\n",
    "            \n",
    "        if(s // int(np.sqrt(env.nS)) == int(np.sqrt(env.nS)) // 2):\n",
    "            if (s % int(np.sqrt(env.nS)) == 0):\n",
    "                return np.array([0, 0, 1, 0, 0])\n",
    "            else:\n",
    "                return np.array([0, 0, 0, 1, 0])\n",
    "            \n",
    "        if(s // int(np.sqrt(env.nS)) == int(np.sqrt(env.nS)) - 1):\n",
    "            return np.array([0, 1, 0, 0, 0])\n",
    "        \n",
    "        return np.array([0, 0, 1, 0, 0])\n",
    "\n",
    "    if(agent_type == 'global_optimal'):\n",
    "        if(s == 0 or s == env.nS - 1):\n",
    "            return np.array([0, 0, 0, 0, 1])\n",
    "        if(s // int(np.sqrt(env.nS)) == 0):\n",
    "            return np.array([0, 0, 0, 1, 0])\n",
    "        if(s // int(np.sqrt(env.nS)) == int(np.sqrt(env.nS)) - 1):\n",
    "            return np.array([0, 1, 0, 0, 0])\n",
    "\n",
    "        if(s // int(np.sqrt(env.nS)) == int(np.sqrt(env.nS)) // 2):\n",
    "            \n",
    "            if (s % int(np.sqrt(env.nS)) < int(np.sqrt(env.nS)) // 2):\n",
    "                if (s % int(np.sqrt(env.nS)) == 0):\n",
    "                    return np.array([0, 0, 1, 0, 0])\n",
    "                else:\n",
    "                    return np.array([0, 0, 0, 1, 0])\n",
    "            else:\n",
    "                if (s % int(np.sqrt(env.nS)) == int(np.sqrt(env.nS)) - 1):\n",
    "                    return np.array([1, 0, 0, 0, 0])\n",
    "                else:\n",
    "                    return np.array([0, 1, 0, 0, 0])\n",
    "        if(s // int(np.sqrt(env.nS)) < int(np.sqrt(env.nS)) // 2):\n",
    "\n",
    "            return np.array([1, 0, 0, 0, 0])\n",
    "        else:\n",
    "            return np.array([0, 0, 1, 0, 0])\n",
    "\n",
    "def play_episode(agent_type, env, s):\n",
    "    env.isd = np.zeros(env.nS)\n",
    "    env.isd[s] = 1 \n",
    "    #set_random_s0(env)\n",
    "    s = env.reset()\n",
    "    t = 0\n",
    "\n",
    "    while(s != 0 and s != env.nS - 1):\n",
    "        t += 1\n",
    "        action_probs = get_action_probs(agent_type, env, s)\n",
    "        #print(action_probs)\n",
    "        action = np.random.choice(np.arange(5), p=action_probs)\n",
    "        s, _, _, _ = env.step(action)\n",
    "        #print(s)\n",
    "        if (t > 1e3):\n",
    "            break\n",
    "    return t \n",
    "    \n",
    "from tqdm import tqdm\n",
    "def get_value_function(agent_type, env):\n",
    "    v = np.zeros(env.nS)\n",
    "    for s in tqdm(range(len(v))):\n",
    "        #print(s)\n",
    "        if env.grid_map[s] == 0:\n",
    "            v[s] = -int(1000)\n",
    "        else:\n",
    "            v[s] = -play_episode(agent_type, env, s)\n",
    "    return v\n",
    "           "
   ]
  },
  {
   "cell_type": "code",
   "execution_count": 437,
   "metadata": {
    "collapsed": false
   },
   "outputs": [
    {
     "data": {
      "text/plain": [
       "array([1, 0, 0, 0, 0])"
      ]
     },
     "execution_count": 437,
     "metadata": {},
     "output_type": "execute_result"
    }
   ],
   "source": [
    "get_action_probs(\"global_optimal\", env, 13)"
   ]
  },
  {
   "cell_type": "code",
   "execution_count": 438,
   "metadata": {
    "collapsed": false
   },
   "outputs": [
    {
     "data": {
      "text/plain": [
       "array([0, 0, 0, 1, 0])"
      ]
     },
     "execution_count": 438,
     "metadata": {},
     "output_type": "execute_result"
    }
   ],
   "source": [
    "global_probs[13]"
   ]
  },
  {
   "cell_type": "code",
   "execution_count": 439,
   "metadata": {
    "collapsed": true
   },
   "outputs": [],
   "source": [
    "left_probs = []\n",
    "right_probs = []\n",
    "global_probs = []\n",
    "for s in range(env.nS):\n",
    "    left_probs.append(get_action_probs(\"left_top_corner\", env, s))\n",
    "    right_probs.append(get_action_probs(\"right_bottom_corner\", env, s))"
   ]
  },
  {
   "cell_type": "code",
   "execution_count": 440,
   "metadata": {
    "collapsed": true
   },
   "outputs": [],
   "source": [
    "np.save(\"gridworlds_data/snake_{}x{}/agents_left_corner/action_probs\".format(SHAPE[0], SHAPE[1]), left_probs)\n",
    "np.save(\"gridworlds_data/snake_{}x{}/agents_right_corner/action_probs\".format(SHAPE[0], SHAPE[1]), right_probs)\n",
    "#np.save(\"gridworlds_data/snake_7x7/agents_global_optimal/action_probs\", global_probs)"
   ]
  },
  {
   "cell_type": "code",
   "execution_count": 441,
   "metadata": {
    "collapsed": false
   },
   "outputs": [
    {
     "name": "stderr",
     "output_type": "stream",
     "text": [
      "100%|██████████| 81/81 [00:00<00:00, 1079.97it/s]\n",
      "100%|██████████| 81/81 [00:00<00:00, 1327.04it/s]\n"
     ]
    }
   ],
   "source": [
    "left_value = get_value_function(\"left_top_corner\", env)\n",
    "left_value[-1] = left_value[-2] - 1\n",
    "right_value= get_value_function(\"right_bottom_corner\", env)\n",
    "right_value[0] = right_value[1] - 1"
   ]
  },
  {
   "cell_type": "code",
   "execution_count": 442,
   "metadata": {
    "collapsed": true
   },
   "outputs": [],
   "source": [
    "global_value = []\n",
    "for s in range(env.nS):\n",
    "    if left_value[s] > right_value[s]:\n",
    "        global_probs.append(left_probs[s])\n",
    "        global_value.append(left_value[s])\n",
    "    else:\n",
    "        global_probs.append(right_probs[s])\n",
    "        global_value.append(right_value[s])\n",
    "global_value = np.array(global_value)"
   ]
  },
  {
   "cell_type": "code",
   "execution_count": 444,
   "metadata": {
    "collapsed": false
   },
   "outputs": [],
   "source": [
    "np.save(\"gridworlds_data/snake_{}x{}/agents_left_corner/value_function\".format(SHAPE[0], SHAPE[1]), left_value)\n",
    "np.save(\"gridworlds_data/snake_{}x{}/agents_right_corner/value_function\".format(SHAPE[0], SHAPE[1]), right_value)\n",
    "np.save(\"gridworlds_data/snake_{}x{}/agents_global_optimal/action_probs\".format(SHAPE[0], SHAPE[1]), global_probs)\n",
    "np.save(\"gridworlds_data/snake_{}x{}/agents_global_optimal/value_function\".format(SHAPE[0], SHAPE[1]), global_value)"
   ]
  },
  {
   "cell_type": "code",
   "execution_count": 445,
   "metadata": {
    "collapsed": false
   },
   "outputs": [
    {
     "data": {
      "text/plain": [
       "array([[    0.,    -1.,    -2.,    -3.,    -4.,    -5.,    -6.,    -7.,\n",
       "           -8.],\n",
       "       [-1000., -1000., -1000., -1000., -1000., -1000., -1000., -1000.,\n",
       "           -9.],\n",
       "       [-1000., -1000., -1000., -1000., -1000., -1000., -1000., -1000.,\n",
       "          -10.],\n",
       "       [-1000., -1000., -1000., -1000., -1000., -1000., -1000., -1000.,\n",
       "          -11.],\n",
       "       [  -12.,   -13.,   -14.,   -15.,   -16.,   -15.,   -14.,   -13.,\n",
       "          -12.],\n",
       "       [  -11., -1000., -1000., -1000., -1000., -1000., -1000., -1000.,\n",
       "        -1000.],\n",
       "       [  -10., -1000., -1000., -1000., -1000., -1000., -1000., -1000.,\n",
       "        -1000.],\n",
       "       [   -9., -1000., -1000., -1000., -1000., -1000., -1000., -1000.,\n",
       "        -1000.],\n",
       "       [   -8.,    -7.,    -6.,    -5.,    -4.,    -3.,    -2.,    -1.,\n",
       "            0.]])"
      ]
     },
     "execution_count": 445,
     "metadata": {},
     "output_type": "execute_result"
    }
   ],
   "source": [
    "global_value.reshape(SHAPE)"
   ]
  },
  {
   "cell_type": "markdown",
   "metadata": {
    "collapsed": true
   },
   "source": [
    "## pillar"
   ]
  },
  {
   "cell_type": "code",
   "execution_count": 142,
   "metadata": {
    "collapsed": true
   },
   "outputs": [],
   "source": [
    "!mkdir gridworlds_data/pillar_7x7"
   ]
  },
  {
   "cell_type": "code",
   "execution_count": 412,
   "metadata": {
    "collapsed": false
   },
   "outputs": [],
   "source": [
    "SHAPE = (9, 9)\n",
    "grid_map = np.ones((SHAPE[0],  SHAPE[1]))\n",
    "for i in range(0, SHAPE[0], 2):\n",
    "     grid_map[i][1::2] = 0\n",
    "grid_map = grid_map.flatten()\n",
    "env = GridworldEnv(SHAPE, grid_map)"
   ]
  },
  {
   "cell_type": "code",
   "execution_count": 413,
   "metadata": {
    "collapsed": false
   },
   "outputs": [
    {
     "data": {
      "text/plain": [
       "array([[1., 0., 1., 0., 1., 0., 1., 0., 1.],\n",
       "       [1., 1., 1., 1., 1., 1., 1., 1., 1.],\n",
       "       [1., 0., 1., 0., 1., 0., 1., 0., 1.],\n",
       "       [1., 1., 1., 1., 1., 1., 1., 1., 1.],\n",
       "       [1., 0., 1., 0., 1., 0., 1., 0., 1.],\n",
       "       [1., 1., 1., 1., 1., 1., 1., 1., 1.],\n",
       "       [1., 0., 1., 0., 1., 0., 1., 0., 1.],\n",
       "       [1., 1., 1., 1., 1., 1., 1., 1., 1.],\n",
       "       [1., 0., 1., 0., 1., 0., 1., 0., 1.]])"
      ]
     },
     "execution_count": 413,
     "metadata": {},
     "output_type": "execute_result"
    }
   ],
   "source": [
    "grid_map.reshape(SHAPE)"
   ]
  },
  {
   "cell_type": "code",
   "execution_count": 414,
   "metadata": {
    "collapsed": false
   },
   "outputs": [],
   "source": [
    "np.save(\"gridworlds_data/pillar_{}x{}/grid_map.npy\".format(SHAPE[0], SHAPE[1]), grid_map)"
   ]
  },
  {
   "cell_type": "code",
   "execution_count": 415,
   "metadata": {
    "collapsed": false
   },
   "outputs": [
    {
     "name": "stdout",
     "output_type": "stream",
     "text": [
      "mkdir: gridworlds_data/pillar_7x7/agents: File exists\n",
      "mkdir: gridworlds_data/pillar_7x7/agents_left_corner: File exists\n",
      "mkdir: gridworlds_data/pillar_7x7/agents_right_corner: File exists\n",
      "mkdir: gridworlds_data/pillar_7x7/agents_global_optimal: File exists\n"
     ]
    }
   ],
   "source": [
    "!mkdir gridworlds_data/pillar_7x7/agents\n",
    "!mkdir gridworlds_data/pillar_7x7/agents_left_corner\n",
    "!mkdir gridworlds_data/pillar_7x7/agents_right_corner\n",
    "!mkdir gridworlds_data/pillar_7x7/agents_global_optimal"
   ]
  },
  {
   "cell_type": "code",
   "execution_count": 416,
   "metadata": {
    "collapsed": true
   },
   "outputs": [],
   "source": [
    "left_corner_goals = np.zeros(env.nS)\n",
    "right_corner_goals = np.zeros(env.nS) + env.nS - 1\n",
    "global_optimal_goals = np.zeros(env.nS)\n",
    "for s in range(len(global_optimal_goals)):\n",
    "    if (s // np.sqrt(env.nS) > int(np.sqrt(env.nS)) - (s % int(np.sqrt(env.nS))) - 1):\n",
    "        global_optimal_goals[s] = env.nS - 1\n",
    "\n",
    "global_optimal_goals[int(np.sqrt(env.nS)) - 1] = env.nS - 1"
   ]
  },
  {
   "cell_type": "code",
   "execution_count": 417,
   "metadata": {
    "collapsed": false
   },
   "outputs": [
    {
     "data": {
      "text/plain": [
       "array([[ 0.,  0.,  0.,  0.,  0.,  0.,  0.,  0., 80.],\n",
       "       [ 0.,  0.,  0.,  0.,  0.,  0.,  0.,  0., 80.],\n",
       "       [ 0.,  0.,  0.,  0.,  0.,  0.,  0., 80., 80.],\n",
       "       [ 0.,  0.,  0.,  0.,  0.,  0., 80., 80., 80.],\n",
       "       [ 0.,  0.,  0.,  0.,  0., 80., 80., 80., 80.],\n",
       "       [ 0.,  0.,  0.,  0., 80., 80., 80., 80., 80.],\n",
       "       [ 0.,  0.,  0., 80., 80., 80., 80., 80., 80.],\n",
       "       [ 0.,  0., 80., 80., 80., 80., 80., 80., 80.],\n",
       "       [ 0., 80., 80., 80., 80., 80., 80., 80., 80.]])"
      ]
     },
     "execution_count": 417,
     "metadata": {},
     "output_type": "execute_result"
    }
   ],
   "source": [
    "global_optimal_goals.reshape(SHAPE)"
   ]
  },
  {
   "cell_type": "code",
   "execution_count": 418,
   "metadata": {
    "collapsed": false
   },
   "outputs": [],
   "source": [
    "np.save(\"gridworlds_data/pillar_{}x{}/agents_left_corner/goal_map\".format(SHAPE[0], SHAPE[1]), left_corner_goals)\n",
    "np.save(\"gridworlds_data/pillar_{}x{}/agents_right_corner/goal_map\".format(SHAPE[0], SHAPE[1]), right_corner_goals)\n",
    "np.save(\"gridworlds_data/pillar_{}x{}/agents_global_optimal/goal_map\".format(SHAPE[0], SHAPE[1]), global_optimal_goals)"
   ]
  },
  {
   "cell_type": "code",
   "execution_count": 419,
   "metadata": {
    "collapsed": true
   },
   "outputs": [],
   "source": [
    "def get_action_probs(agent_type, env, s):\n",
    "        if(agent_type == 'left_top_corner'):\n",
    "            if(s == 0):\n",
    "                return np.array([0, 0, 0, 0, 1])\n",
    "            if(s < np.sqrt(env.nS)):\n",
    "                return np.array([0, 0, 1, 0, 0])\n",
    "            if(s % int(np.sqrt(env.nS)) == 0):\n",
    "                return np.array([1, 0, 0, 0, 0])\n",
    "            if(s // int(np.sqrt(env.nS)) % 2 == 0):\n",
    "                return np.array([1, 0, 0, 0, 0])\n",
    "            else:\n",
    "                return np.array([0, 0, 0, 1, 0])\n",
    "            \n",
    "        if(agent_type == 'right_bottom_corner'):\n",
    "            if(s == env.nS - 1):\n",
    "                return np.array([0, 0, 0, 0, 1])\n",
    "            if(s >= env.nS - np.sqrt(env.nS)):\n",
    "                return np.array([1, 0, 0, 0, 0])\n",
    "            if(s % int(np.sqrt(env.nS)) == int(np.sqrt(env.nS)) - 1):\n",
    "                return np.array([0, 0, 1, 0, 0])\n",
    "            if(s // int(np.sqrt(env.nS)) % 2 == 0):\n",
    "                return np.array([0, 0, 1, 0, 0])\n",
    "            else:\n",
    "                return np.array([0, 1, 0, 0, 0])\n",
    "        if(agent_type == 'global_optimal'):\n",
    "            if(s == env.nS - 1 or s == 0):\n",
    "                return np.array([0, 0, 0, 0, 1])\n",
    "            if(s % int(np.sqrt(env.nS)) == 0):\n",
    "                return np.array([1, 0, 0, 0, 0])\n",
    "            if(s % int(np.sqrt(env.nS)) == int(np.sqrt(env.nS)) - 1):\n",
    "                return np.array([0, 0, 1, 0, 0])\n",
    "            if(s // int(np.sqrt(env.nS)) <= int(np.sqrt(env.nS)) // 2):\n",
    "                if(s < np.sqrt(env.nS)):\n",
    "                    return np.array([0, 0, 1, 0, 0])\n",
    "                if(s // int(np.sqrt(env.nS)) % 2 == 0):\n",
    "                    return np.array([1, 0, 0, 0, 0])\n",
    "                else:\n",
    "                    return np.array([0, 0, 0, 1, 0])\n",
    "            if(s // int(np.sqrt(env.nS)) > int(np.sqrt(env.nS)) // 2):\n",
    "                if(s >= env.nS - np.sqrt(env.nS)):\n",
    "                    return np.array([1, 0, 0, 0, 0])\n",
    "                if(s // int(np.sqrt(env.nS)) % 2 == 0):\n",
    "                    return np.array([0, 0, 1, 0, 0])\n",
    "                else:\n",
    "                    return np.array([0, 1, 0, 0, 0])\n",
    "#             if(s // int(np.sqrt(env.nS)) == int(np.sqrt(env.nS)) // 2):\n",
    "#                 if(s % np.sqrt(env.nS) <= np.sqrt(env.nS) // 2):\n",
    "#                     return np.array([0, 0, 0, 1, 0])\n",
    "#                 else:\n",
    "#                     return np.array([0, 1, 0, 0, 0])\n",
    "                \n",
    "def play_episode(agent_type, env, s):\n",
    "    env.isd = np.zeros(env.nS)\n",
    "    env.isd[s] = 1 \n",
    "    #set_random_s0(env)\n",
    "    s = env.reset()\n",
    "    t = 0\n",
    "\n",
    "    while(s != 0 and s != env.nS - 1):\n",
    "        t += 1\n",
    "        action_probs = get_action_probs(agent_type, env, s)\n",
    "        #print(action_probs)\n",
    "        action = np.random.choice(np.arange(5), p=action_probs)\n",
    "        #print(action)\n",
    "        s, _, _, _ = env.step(action)\n",
    "        #print(s)\n",
    "        #print(s)\n",
    "        if (t > 1e3):\n",
    "            break\n",
    "    return t\n",
    "\n",
    "def get_value_function(agent_type, env):\n",
    "    v = np.zeros(env.nS)\n",
    "    for s in tqdm(range(len(v))):\n",
    "        #print(s)\n",
    "        if env.grid_map[s] == 0:\n",
    "            v[s] = -int(1000)\n",
    "        else:\n",
    "            v[s] = -play_episode(agent_type, env, s)\n",
    "    return v\n",
    "           "
   ]
  },
  {
   "cell_type": "code",
   "execution_count": 420,
   "metadata": {
    "collapsed": true
   },
   "outputs": [],
   "source": [
    "left_probs = []\n",
    "right_probs = []\n",
    "global_probs = []\n",
    "for s in range(env.nS):\n",
    "    left_probs.append(get_action_probs(\"left_top_corner\", env, s))\n",
    "    right_probs.append(get_action_probs(\"right_bottom_corner\", env, s))\n",
    "    #global_probs.append(get_action_probs(\"global_optimal\", env, s))"
   ]
  },
  {
   "cell_type": "code",
   "execution_count": 421,
   "metadata": {
    "collapsed": true
   },
   "outputs": [],
   "source": [
    "np.save(\"gridworlds_data/pillar_{}x{}/agents_left_corner/action_probs\".format(SHAPE[0], SHAPE[1]), left_probs)\n",
    "np.save(\"gridworlds_data/pillar_{}x{}/agents_right_corner/action_probs\".format(SHAPE[0], SHAPE[1]), right_probs)\n",
    "#np.save(\"gridworlds_data/pillar_{}x{}/agents_global_optimal/action_probs\".format(SHAPE[0], SHAPE[1]), global_probs)"
   ]
  },
  {
   "cell_type": "code",
   "execution_count": 422,
   "metadata": {
    "collapsed": false
   },
   "outputs": [
    {
     "name": "stderr",
     "output_type": "stream",
     "text": [
      "100%|██████████| 81/81 [00:00<00:00, 1685.04it/s]\n",
      "100%|██████████| 81/81 [00:00<00:00, 954.21it/s]\n"
     ]
    }
   ],
   "source": [
    "left_value = get_value_function(\"left_top_corner\", env)\n",
    "left_value[-1] = left_value[-int(np.sqrt(env.nS)) - 1] - 1\n",
    "right_value= get_value_function(\"right_bottom_corner\", env)\n",
    "right_value[0] = right_value[int(np.sqrt(env.nS))] - 1\n",
    "#global_value= get_value_function(\"global_optimal\", env)"
   ]
  },
  {
   "cell_type": "code",
   "execution_count": 423,
   "metadata": {
    "collapsed": false
   },
   "outputs": [],
   "source": [
    "global_value = []\n",
    "for s in range(env.nS):\n",
    "    if left_value[s] > right_value[s]:\n",
    "        global_probs.append(left_probs[s])\n",
    "        global_value.append(left_value[s])\n",
    "    else:\n",
    "        global_probs.append(right_probs[s])\n",
    "        global_value.append(right_value[s])\n",
    "global_value = np.array(global_value)"
   ]
  },
  {
   "cell_type": "code",
   "execution_count": 424,
   "metadata": {
    "collapsed": false
   },
   "outputs": [
    {
     "data": {
      "text/plain": [
       "-253.03703703703704"
      ]
     },
     "execution_count": 424,
     "metadata": {},
     "output_type": "execute_result"
    }
   ],
   "source": [
    "np.mean(left_value)"
   ]
  },
  {
   "cell_type": "code",
   "execution_count": 426,
   "metadata": {
    "collapsed": false
   },
   "outputs": [
    {
     "data": {
      "text/plain": [
       "-5.245901639344262"
      ]
     },
     "execution_count": 426,
     "metadata": {},
     "output_type": "execute_result"
    }
   ],
   "source": [
    "sum = 0\n",
    "cnt = 0\n",
    "for s in global_value:\n",
    "    if s != -1000:\n",
    "        sum += s\n",
    "        cnt += 1\n",
    "sum / cnt"
   ]
  },
  {
   "cell_type": "code",
   "execution_count": 402,
   "metadata": {
    "collapsed": false
   },
   "outputs": [
    {
     "data": {
      "text/plain": [
       "array([[    0., -1000.,    -4., -1000.,    -6., -1000.,    -6.],\n",
       "       [   -1.,    -2.,    -3.,    -4.,    -5.,    -6.,    -5.],\n",
       "       [   -2., -1000.,    -4., -1000.,    -6., -1000.,    -4.],\n",
       "       [   -3.,    -4.,    -5.,    -6.,    -5.,    -4.,    -3.],\n",
       "       [   -4., -1000.,    -6., -1000.,    -4., -1000.,    -2.],\n",
       "       [   -5.,    -6.,    -5.,    -4.,    -3.,    -2.,    -1.],\n",
       "       [   -6., -1000.,    -6., -1000.,    -4., -1000.,     0.]])"
      ]
     },
     "execution_count": 402,
     "metadata": {},
     "output_type": "execute_result"
    }
   ],
   "source": [
    "global_value.reshape(SHAPE)"
   ]
  },
  {
   "cell_type": "code",
   "execution_count": 403,
   "metadata": {
    "collapsed": true
   },
   "outputs": [],
   "source": [
    "np.save(\"gridworlds_data/pillar_{}x{}/agents_left_corner/value_function\".format(SHAPE[0], SHAPE[1]), left_value)\n",
    "np.save(\"gridworlds_data/pillar_{}x{}/agents_right_corner/value_function\".format(SHAPE[0], SHAPE[1]), right_value)\n",
    "np.save(\"gridworlds_data/pillar_{}x{}/agents_global_optimal/action_probs\".format(SHAPE[0], SHAPE[1]), global_probs)\n",
    "np.save(\"gridworlds_data/pillar_{}x{}/agents_global_optimal/value_function\".format(SHAPE[0], SHAPE[1]), global_value)"
   ]
  },
  {
   "cell_type": "code",
   "execution_count": 404,
   "metadata": {
    "collapsed": false
   },
   "outputs": [
    {
     "data": {
      "text/plain": [
       "[array([0, 0, 0, 0, 1]),\n",
       " array([0, 0, 1, 0, 0]),\n",
       " array([0, 0, 1, 0, 0]),\n",
       " array([0, 0, 1, 0, 0]),\n",
       " array([0, 0, 1, 0, 0]),\n",
       " array([0, 0, 1, 0, 0]),\n",
       " array([0, 0, 1, 0, 0]),\n",
       " array([1, 0, 0, 0, 0]),\n",
       " array([0, 0, 0, 1, 0]),\n",
       " array([0, 0, 0, 1, 0]),\n",
       " array([0, 0, 0, 1, 0]),\n",
       " array([0, 0, 0, 1, 0]),\n",
       " array([0, 1, 0, 0, 0]),\n",
       " array([0, 0, 1, 0, 0]),\n",
       " array([1, 0, 0, 0, 0]),\n",
       " array([0, 0, 1, 0, 0]),\n",
       " array([1, 0, 0, 0, 0]),\n",
       " array([0, 0, 1, 0, 0]),\n",
       " array([0, 0, 1, 0, 0]),\n",
       " array([0, 0, 1, 0, 0]),\n",
       " array([0, 0, 1, 0, 0]),\n",
       " array([1, 0, 0, 0, 0]),\n",
       " array([0, 0, 0, 1, 0]),\n",
       " array([0, 0, 0, 1, 0]),\n",
       " array([0, 1, 0, 0, 0]),\n",
       " array([0, 1, 0, 0, 0]),\n",
       " array([0, 1, 0, 0, 0]),\n",
       " array([0, 0, 1, 0, 0]),\n",
       " array([1, 0, 0, 0, 0]),\n",
       " array([0, 0, 1, 0, 0]),\n",
       " array([0, 0, 1, 0, 0]),\n",
       " array([0, 0, 1, 0, 0]),\n",
       " array([0, 0, 1, 0, 0]),\n",
       " array([0, 0, 1, 0, 0]),\n",
       " array([0, 0, 1, 0, 0]),\n",
       " array([1, 0, 0, 0, 0]),\n",
       " array([0, 1, 0, 0, 0]),\n",
       " array([0, 1, 0, 0, 0]),\n",
       " array([0, 1, 0, 0, 0]),\n",
       " array([0, 1, 0, 0, 0]),\n",
       " array([0, 1, 0, 0, 0]),\n",
       " array([0, 0, 1, 0, 0]),\n",
       " array([1, 0, 0, 0, 0]),\n",
       " array([1, 0, 0, 0, 0]),\n",
       " array([1, 0, 0, 0, 0]),\n",
       " array([1, 0, 0, 0, 0]),\n",
       " array([1, 0, 0, 0, 0]),\n",
       " array([1, 0, 0, 0, 0]),\n",
       " array([0, 0, 0, 0, 1])]"
      ]
     },
     "execution_count": 404,
     "metadata": {},
     "output_type": "execute_result"
    }
   ],
   "source": [
    "global_probs"
   ]
  },
  {
   "cell_type": "code",
   "execution_count": null,
   "metadata": {
    "collapsed": true
   },
   "outputs": [],
   "source": []
  },
  {
   "cell_type": "code",
   "execution_count": 405,
   "metadata": {
    "collapsed": true
   },
   "outputs": [],
   "source": [
    "import numpy as np\n",
    "import torch\n",
    "import torch.nn as nn\n",
    "import torch.nn.functional as F\n",
    "import torch.optim as optim\n",
    "import torch.autograd as autograd\n",
    "\n",
    "from collections import namedtuple\n",
    "from itertools import count\n",
    "from IPython.display import clear_output\n",
    "from torch.autograd import Variable\n",
    "from tqdm import tnrange\n",
    "\n",
    "\n",
    "from hyper_parametrs import *\n",
    "\n",
    "\n",
    "SavedAction = namedtuple('SavedAction', ['action', 'prob', 'value'])\n",
    "\n",
    "\n",
    "class Agent(nn.Module):\n",
    "    def __init__(self, state_dim, action_dim, name):\n",
    "        super(Agent, self).__init__()\n",
    "        self.name = name\n",
    "        self.state_dim = state_dim\n",
    "        self.action_dim = action_dim\n",
    "        \n",
    "        #self.affine1 = nn.Linear(state_dim, hidden_layer1_size) #common\n",
    "        #nn.init.xavier_normal(self.self.affine1.weight) #common\n",
    "        \n",
    "        self.common = nn.Linear(state_dim, hidden_layer1_size)\n",
    "        \n",
    "        self.action_head = nn.Sequential(self.common, nn.ReLU(),\n",
    "                                         nn.Linear(hidden_layer1_size, hidden_layer2_size), nn.ReLU(),\n",
    "                                         nn.Linear(hidden_layer2_size, hidden_layer3_size), nn.ReLU(),\n",
    "                                         nn.Linear(hidden_layer3_size, action_dim))\n",
    "        \n",
    "        self.value_head = nn.Sequential(self.common, nn.ReLU(),\n",
    "                                         nn.Linear(hidden_layer1_size, hidden_layer2_size), nn.ReLU(),\n",
    "                                         nn.Linear(hidden_layer2_size, hidden_layer3_size), nn.ReLU(),\n",
    "                                         nn.Linear(hidden_layer3_size, 1))\n",
    "        \n",
    "#         self.base_action = nn.Linear(state_dim, hidden_layer1_size) #separate\n",
    "#         nn.init.xavier_normal(self.base_action.weight) #separate\n",
    "        \n",
    "#         self.base_value = nn.Linear(state_dim, hidden_layer1_size) #separate\n",
    "#         nn.init.xavier_normal(self.base_value.weight) #separate\n",
    "        \n",
    "#         self.action_linear = nn.Linear(hidden_layer1_size, hidden_layer2_size)\n",
    "#         nn.init.xavier_normal(self.action_linear.weight)\n",
    "#         self.action_head = nn.Linear(hidden_layer2_size, action_dim)\n",
    "#         nn.init.xavier_normal(self.action_head.weight)\n",
    "        \n",
    "#         self.value_linear = nn.Linear(hidden_layer1_size, hidden_layer2_size)\n",
    "#         nn.init.xavier_normal(self.value_linear.weight)\n",
    "#         self.value_head = nn.Linear(hidden_layer2_size, 1)\n",
    "#         nn.init.xavier_normal(self.value_head.weight)\n",
    "\n",
    "        self.saved_actions = []\n",
    "        self.rewards = []\n",
    "\n",
    "    def forward(self, s, s_star=None):\n",
    "        x_onehot = torch.zeros((1, self.state_dim))\n",
    "        x_onehot[0][s] = 1\n",
    "        if(not (s_star is None)):\n",
    "            x_onehot[0][self.state_dim // 2 + s_star] = 1\n",
    "        x_onehot = Variable(x_onehot)\n",
    "        \n",
    "        #x = F.relu(self.affine1(x_onehot)) #common\n",
    "#         x_action = F.relu(self.base_action(x_onehot))\n",
    "#         x_value = F.relu(self.base_value(x_onehot))\n",
    "        \n",
    "#         action_scores = self.action_head(F.relu(self.action_linear(x_action)))\n",
    "#         state_values = self.value_head(F.relu(self.value_linear(x_value)))\n",
    "        action_scores = self.action_head(x)\n",
    "        state_values = self.value_head(x)\n",
    "        return F.softmax(action_scores), state_values\n",
    "    \n",
    "    def select_action(self, state, s_star, cache_action=True):\n",
    "        #state = torch.from_numpy(state).int().unsqueeze(0)\n",
    "        probs, state_value = self.forward(state, s_star)\n",
    "        action = probs.multinomial()\n",
    "        if(cache_action == True):\n",
    "            self.saved_actions.append(SavedAction(action, probs, state_value))\n",
    "        return action.data\n",
    "        \n",
    "    "
   ]
  },
  {
   "cell_type": "markdown",
   "metadata": {},
   "source": [
    "## cross"
   ]
  },
  {
   "cell_type": "code",
   "execution_count": 359,
   "metadata": {
    "collapsed": true
   },
   "outputs": [],
   "source": [
    "!mkdir gridworlds_data/cross_7x7"
   ]
  },
  {
   "cell_type": "code",
   "execution_count": 364,
   "metadata": {
    "collapsed": false
   },
   "outputs": [],
   "source": [
    "SHAPE = (7, 7)\n",
    "grid_map = np.ones((SHAPE[0],  SHAPE[1]))\n",
    "grid_map[SHAPE[0] // 2, :] = 0\n",
    "grid_map[:, SHAPE[0] // 2] = 0\n",
    "grid_map[0, :] = 1\n",
    "grid_map[:, 0] = 1\n",
    "grid_map[:, -1] = 1\n",
    "grid_map[-1, :] = 1\n",
    "grid_map\n",
    "grid_map = grid_map.flatten()\n",
    "env = GridworldEnv(SHAPE, grid_map)"
   ]
  },
  {
   "cell_type": "code",
   "execution_count": 365,
   "metadata": {
    "collapsed": true
   },
   "outputs": [],
   "source": [
    "left_corner_goals = np.zeros(env.nS)\n",
    "right_corner_goals = np.zeros(env.nS) + env.nS - 1\n",
    "global_optimal_goals = np.zeros(env.nS)\n",
    "for s in range(len(global_optimal_goals)):\n",
    "    if (s // np.sqrt(env.nS) > int(np.sqrt(env.nS)) - (s % int(np.sqrt(env.nS))) - 1):\n",
    "        global_optimal_goals[s] = env.nS - 1"
   ]
  },
  {
   "cell_type": "code",
   "execution_count": 366,
   "metadata": {
    "collapsed": false
   },
   "outputs": [
    {
     "data": {
      "text/plain": [
       "array([[ 0.,  0.,  0.,  0.,  0.,  0.,  0.],\n",
       "       [ 0.,  0.,  0.,  0.,  0.,  0., 48.],\n",
       "       [ 0.,  0.,  0.,  0.,  0., 48., 48.],\n",
       "       [ 0.,  0.,  0.,  0., 48., 48., 48.],\n",
       "       [ 0.,  0.,  0., 48., 48., 48., 48.],\n",
       "       [ 0.,  0., 48., 48., 48., 48., 48.],\n",
       "       [ 0., 48., 48., 48., 48., 48., 48.]])"
      ]
     },
     "execution_count": 366,
     "metadata": {},
     "output_type": "execute_result"
    }
   ],
   "source": [
    "global_optimal_goals.reshape(SHAPE[0], SHAPE[1])"
   ]
  },
  {
   "cell_type": "code",
   "execution_count": 372,
   "metadata": {
    "collapsed": false
   },
   "outputs": [],
   "source": [
    "!mkdir gridworlds_data/cross_7x7/agents_left_corner\n",
    "!mkdir gridworlds_data/cross_7x7/agents_right_corner\n",
    "!mkdir gridworlds_data/cross_7x7/agents_global_optimal\n",
    "\n",
    "np.save(\"gridworlds_data/cross_{}x{}/agents_left_corner/goal_map\".format(SHAPE[0], SHAPE[1]), left_corner_goals)\n",
    "np.save(\"gridworlds_data/cross_{}x{}/agents_right_corner/goal_map\".format(SHAPE[0], SHAPE[1]), right_corner_goals)\n",
    "np.save(\"gridworlds_data/cross_{}x{}/agents_global_optimal/goal_map\".format(SHAPE[0], SHAPE[1]), global_optimal_goals)"
   ]
  },
  {
   "cell_type": "code",
   "execution_count": null,
   "metadata": {
    "collapsed": true
   },
   "outputs": [],
   "source": [
    "def get_action_probs(agent_type, env, s):\n",
    "        if(agent_type == 'left_top_corner'):\n",
    "            if(s == 0):\n",
    "                return np.array([0, 0, 0, 0, 1])\n",
    "            if(s % np.sqrt(env.nS) == 0):\n",
    "                return np.array([1, 0, 0, 0, 0])\n",
    "            \n",
    "            if(s // np.sqrt(env.nS) == 0):\n",
    "                return np.array([0, 0, 1, 0, 0])\n",
    "            \n",
    "            if(s % np.sqrt(env.nS) == np.sqrt(env.nS) - 1):\n",
    "                return np.array([1, 0, 0, 0, 0])\n",
    "            \n",
    "            \n",
    "            \n",
    "            if(s //  < np.sqrt(env.nS)):\n",
    "                return np.array([0, 0, 1, 0, 0])\n",
    "            if(s % int(np.sqrt(env.nS)) == 0):\n",
    "                return np.array([1, 0, 0, 0, 0])\n",
    "            if(s // int(np.sqrt(env.nS)) % 2 == 0):\n",
    "                return np.array([1, 0, 0, 0, 0])\n",
    "            else:\n",
    "                return np.array([0, 0, 0, 1, 0])\n",
    "            \n",
    "        if(agent_type == 'right_bottom_corner'):\n",
    "            if(s == env.nS - 1):\n",
    "                return np.array([0, 0, 0, 0, 1])\n",
    "            if(s >= env.nS - np.sqrt(env.nS)):\n",
    "                return np.array([1, 0, 0, 0, 0])\n",
    "            if(s % int(np.sqrt(env.nS)) == int(np.sqrt(env.nS)) - 1):\n",
    "                return np.array([0, 0, 1, 0, 0])\n",
    "            if(s // int(np.sqrt(env.nS)) % 2 == 0):\n",
    "                return np.array([0, 0, 1, 0, 0])\n",
    "            else:\n",
    "                return np.array([0, 1, 0, 0, 0])\n",
    "        if(agent_type == 'global_optimal'):\n",
    "            if(s == env.nS - 1 or s == 0):\n",
    "                return np.array([0, 0, 0, 0, 1])\n",
    "            if(s % int(np.sqrt(env.nS)) == 0):\n",
    "                return np.array([1, 0, 0, 0, 0])\n",
    "            if(s % int(np.sqrt(env.nS)) == int(np.sqrt(env.nS)) - 1):\n",
    "                return np.array([0, 0, 1, 0, 0])\n",
    "            if(s // int(np.sqrt(env.nS)) <= int(np.sqrt(env.nS)) // 2):\n",
    "                if(s < np.sqrt(env.nS)):\n",
    "                    return np.array([0, 0, 1, 0, 0])\n",
    "                if(s // int(np.sqrt(env.nS)) % 2 == 0):\n",
    "                    return np.array([1, 0, 0, 0, 0])\n",
    "                else:\n",
    "                    return np.array([0, 0, 0, 1, 0])\n",
    "            if(s // int(np.sqrt(env.nS)) > int(np.sqrt(env.nS)) // 2):\n",
    "                if(s >= env.nS - np.sqrt(env.nS)):\n",
    "                    return np.array([1, 0, 0, 0, 0])\n",
    "                if(s // int(np.sqrt(env.nS)) % 2 == 0):\n",
    "                    return np.array([0, 0, 1, 0, 0])\n",
    "                else:\n",
    "                    return np.array([0, 1, 0, 0, 0])\n",
    "#             if(s // int(np.sqrt(env.nS)) == int(np.sqrt(env.nS)) // 2):\n",
    "#                 if(s % np.sqrt(env.nS) <= np.sqrt(env.nS) // 2):\n",
    "#                     return np.array([0, 0, 0, 1, 0])\n",
    "#                 else:\n",
    "#                     return np.array([0, 1, 0, 0, 0])\n",
    "                \n",
    "def play_episode(agent_type, env, s):\n",
    "    env.isd = np.zeros(env.nS)\n",
    "    env.isd[s] = 1 \n",
    "    #set_random_s0(env)\n",
    "    s = env.reset()\n",
    "    t = 0\n",
    "\n",
    "    while(s != 0 and s != env.nS - 1):\n",
    "        t += 1\n",
    "        action_probs = get_action_probs(agent_type, env, s)\n",
    "        #print(action_probs)\n",
    "        action = np.random.choice(np.arange(5), p=action_probs)\n",
    "        #print(action)\n",
    "        s, _, _, _ = env.step(action)\n",
    "        #print(s)\n",
    "        #print(s)\n",
    "        if (t > 1e3):\n",
    "            break\n",
    "    return t\n",
    "\n",
    "def get_value_function(agent_type, env):\n",
    "    v = np.zeros(env.nS)\n",
    "    for s in tqdm(range(len(v))):\n",
    "        #print(s)\n",
    "        if env.grid_map[s] == 0:\n",
    "            v[s] = -int(1000)\n",
    "        else:\n",
    "            v[s] = -play_episode(agent_type, env, s)\n",
    "    return v\n",
    "           "
   ]
  }
 ],
 "metadata": {
  "anaconda-cloud": {},
  "kernelspec": {
   "display_name": "Python [default]",
   "language": "python",
   "name": "python3"
  },
  "language_info": {
   "codemirror_mode": {
    "name": "ipython",
    "version": 3
   },
   "file_extension": ".py",
   "mimetype": "text/x-python",
   "name": "python",
   "nbconvert_exporter": "python",
   "pygments_lexer": "ipython3",
   "version": "3.5.2"
  }
 },
 "nbformat": 4,
 "nbformat_minor": 2
}

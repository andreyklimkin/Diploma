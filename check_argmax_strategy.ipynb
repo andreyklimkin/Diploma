{
 "cells": [
  {
   "cell_type": "code",
   "execution_count": 1,
   "metadata": {
    "collapsed": true
   },
   "outputs": [],
   "source": [
    "import os\n",
    "\n",
    "import gym\n",
    "import numpy as np\n",
    "import matplotlib.pyplot as plt\n",
    "import torch\n",
    "import torch.nn as nn\n",
    "import torch.nn.functional as F\n",
    "import torch.optim as optim\n",
    "import torch.autograd as autograd\n",
    "\n",
    "from itertools import count\n",
    "from collections import namedtuple\n",
    "from torch.autograd import Variable"
   ]
  },
  {
   "cell_type": "code",
   "execution_count": 2,
   "metadata": {
    "collapsed": true
   },
   "outputs": [],
   "source": [
    "gamma_rl = 0.99"
   ]
  },
  {
   "cell_type": "code",
   "execution_count": 3,
   "metadata": {
    "collapsed": true
   },
   "outputs": [],
   "source": [
    "from gridworld import GridworldEnv"
   ]
  },
  {
   "cell_type": "code",
   "execution_count": 4,
   "metadata": {
    "collapsed": true
   },
   "outputs": [],
   "source": [
    "env = GridworldEnv(shape=(5, 5))"
   ]
  },
  {
   "cell_type": "code",
   "execution_count": 5,
   "metadata": {
    "collapsed": true
   },
   "outputs": [],
   "source": [
    "#state_dim = 2 * len(env.state)\n",
    "state_dim = int(env.nS * 2)\n",
    "action_dim = int(env.nA)\n",
    "\n",
    "hidden_layer1_size = 50\n",
    "hidden_layer2_size = 50\n",
    "\n",
    "lambda_baseline = 0.1 #best 0.1\n",
    "\n",
    "entropy_weights = {\n",
    "    \"Alice\":0.0,\n",
    "    \"Bob\":0.00,\n",
    "}\n",
    "\n",
    "eps = 1e-3"
   ]
  },
  {
   "cell_type": "code",
   "execution_count": 171,
   "metadata": {
    "collapsed": true
   },
   "outputs": [],
   "source": [
    "def set_random_s0(env):\n",
    "    #rand_s0 = np.random.randint(12, 13)\n",
    "    rand_s0 = np.random.randint(1, env.nS - 1)\n",
    "    \n",
    "    for i in range(len(env.isd)):\n",
    "        env.isd[i] = 0\n",
    "    \n",
    "    env.isd[rand_s0] = 1  "
   ]
  },
  {
   "cell_type": "code",
   "execution_count": 174,
   "metadata": {
    "collapsed": false
   },
   "outputs": [],
   "source": [
    "class Alice:\n",
    "    def __init__(self, Alice_type):\n",
    "        self.type = Alice_type\n",
    "    \n",
    "    def get_action_probs(self, env, s):\n",
    "        if(self.type == 'left_top_corner'):\n",
    "            if(s == 0):\n",
    "                return np.array([0, 0, 0, 0, 1])\n",
    "            if(s % int(np.sqrt(env.nS)) == 0):\n",
    "                return np.array([1, 0, 0, 0, 0])\n",
    "            if(s < int(np.sqrt(env.nS))):\n",
    "                return np.array([0, 0, 0, 1, 0])\n",
    "            return np.array([0.5, 0, 0, 0.5, 0])\n",
    "        else:\n",
    "            if(s == env.nS - 1):\n",
    "                return np.array([0, 0, 0, 0, 1])\n",
    "            if((s + 1) % int(np.sqrt(env.nS)) == 0):\n",
    "                return np.array([0, 0, 1, 0, 0])\n",
    "            if(s + int(np.sqrt(env.nS)) >= env.nS):\n",
    "                return np.array([0, 1, 0, 0, 0])\n",
    "            return np.array([0, 0.5, 0.5, 0, 0])\n",
    "\n",
    "    def select_action(self, env, s):\n",
    "        action_probs = self.get_action_probs(env, s)\n",
    "        action = np.random.choice(np.arange(5), p=action_probs)\n",
    "        \n",
    "        return action\n",
    "    \n",
    "    def get_state_action_distr(self, env, s):\n",
    "        action_probs = self.get_action_probs(env, s)\n",
    "        \n",
    "        return action_probs\n",
    "    \n",
    "    def precompute_v_function(self, env):\n",
    "        self.v = np.zeros(env.nS)\n",
    "        for s in range(len(self.v)):\n",
    "            if(self.type == 'left_top_corner'):\n",
    "                self.v[s] = -(s % int(np.sqrt(env.nS)) + s // int(np.sqrt(env.nS)))\n",
    "            else:\n",
    "                self.v[s] = (-((int(np.sqrt(env.nS)) - (s % int(np.sqrt(env.nS))) - 1) \n",
    "                        + (int(np.sqrt(env.nS)) - s // int(np.sqrt(env.nS)) - 1)))\n",
    "\n",
    "    def v_function(self, s):\n",
    "        return self.v[s]\n",
    "\n",
    "class Bob:\n",
    "    def __init__(self, env):\n",
    "        self.action_probs = [np.ones(4) * 0.25 for i in range(env.nS)]\n",
    "        \n",
    "    def select_action(self, s):\n",
    "        action = np.random.choice(np.arange(4), p=action_probs[s])\n",
    "        return action\n",
    "\n",
    "    def change_state_action_distr(self, s, distr):\n",
    "        self.action_probs[s] = distr"
   ]
  },
  {
   "cell_type": "code",
   "execution_count": 175,
   "metadata": {
    "collapsed": true
   },
   "outputs": [],
   "source": [
    "def is_done(env, s):\n",
    "    return (s == env.nS - 1) or (s == 0)\n",
    "\n",
    "def get_episode_reward(env, model, who, tmax,  s_star=None):\n",
    "    policy_episode_reward = 0.0\n",
    "    set_random_s0(env)\n",
    "    env.reset()\n",
    "    s = env.s\n",
    "    gamma_factor = 1\n",
    "    for i in range(tmax):\n",
    "        if(is_done(env, s)):\n",
    "            break\n",
    "        if(who == \"Alice\"):\n",
    "            a = model.select_action(env, s)\n",
    "        else:\n",
    "            a = model.select_action(s, s_star, cache_action=False)[0, 0]\n",
    "        s, reward, _, _= env.step(a)\n",
    "        policy_episode_reward += reward * gamma_factor\n",
    "        gamma_factor *= gamma_rl\n",
    "    \n",
    "    return policy_episode_reward\n",
    "        \n",
    "        \n",
    "def get_policy_reward_estimation(env, model, who, episodes_to_estimate, tmax, s_star=None):\n",
    "    episode_reward_estiomation = []\n",
    "    \n",
    "    for ep in range(episodes_to_estimate):\n",
    "        episode_reward_estiomation.append(get_episode_reward(env, model, who, tmax, s_star))\n",
    "    \n",
    "    return np.array(episode_reward_estiomation)"
   ]
  },
  {
   "cell_type": "code",
   "execution_count": 176,
   "metadata": {
    "collapsed": true
   },
   "outputs": [],
   "source": [
    "Alice_left_corner = Alice(\"left_top_corner\")\n",
    "Alice_left_corner.precompute_v_function(env)\n",
    "Alice_right_corner = Alice(\"right_bottom_corner\")\n",
    "Alice_right_corner.precompute_v_function(env)"
   ]
  },
  {
   "cell_type": "code",
   "execution_count": 177,
   "metadata": {
    "collapsed": false
   },
   "outputs": [],
   "source": [
    "model_Bob = Bob(env)"
   ]
  },
  {
   "cell_type": "code",
   "execution_count": 178,
   "metadata": {
    "collapsed": true
   },
   "outputs": [],
   "source": [
    "def dummy_self_play_episode(env, n_step, model_Alice, model_Bob, pretraining_type=\"Repeat\", is_gridworld=True):\n",
    "    \n",
    "    tA = 0\n",
    "    done = False\n",
    "    while True:\n",
    "        tA = tA + 1\n",
    "        s = env.s\n",
    "        \n",
    "        a = model_Alice.select_action(env, s)\n",
    "        action_distr = model_Alice.get_state_action_distr(env, s)\n",
    "        model_Bob.change_state_action_distr(s, action_distr[:4])\n",
    "        if a == env.action_space.n or tA >= n_step:\n",
    "            if(pretraining_type == \"Repeat\"):\n",
    "                s_star = env.s# + 1\n",
    "                env.reset()\n",
    "            \n",
    "            break\n",
    "        state, _, done, _= env.step(a)"
   ]
  },
  {
   "cell_type": "code",
   "execution_count": 179,
   "metadata": {
    "collapsed": true
   },
   "outputs": [],
   "source": [
    "from tqdm import tnrange\n",
    "from random import choice\n",
    "\n",
    "def choose_Alice(models_Alice, s0, strategy=\"dummy\"):\n",
    "    if(strategy == \"dummy\"):\n",
    "        return models_Alice[np.random.randint(len(models_Alice))]\n",
    "    if(strategy == \"v-based\"):\n",
    "        best_Alice_indxs = []\n",
    "        best_Alice_v = -np.inf\n",
    "        \n",
    "        for i, Alice in enumerate(models_Alice):\n",
    "            if(Alice.v_function(s0) > best_Alice_v):\n",
    "                best_Alice_indx = [i]\n",
    "                best_Alice_v = Alice.v_function(s0)\n",
    "            if(Alice.v_function(s0) == best_Alice_v):\n",
    "                best_Alice_indx.append(i)\n",
    "                \n",
    "        return models_Alice[choice(best_Alice_indx)]\n",
    "\n",
    "from collections import defaultdict\n",
    "    \n",
    "def pretrain_model(env, nsteps, models_Alice, model_Bob, total_episodes, pretraining_type=\"Repeat\"):\n",
    "    rewards = []\n",
    "    episode_time = []\n",
    "    finish_states = []\n",
    "    Alices_times_choice = defaultdict(int)\n",
    "    for i in range(total_episodes):\n",
    "        #print(\"Episode %d:\" % (i + 1))\n",
    "        set_random_s0(env)\n",
    "        s0 = env.reset()# + 1\n",
    "        model_Alice = choose_Alice(models_Alice, s0, strategy=\"v-based\")\n",
    "        Alices_times_choice[model_Alice.type] += 1\n",
    "        \n",
    "        dummy_self_play_episode(env, nsteps, model_Alice, model_Bob, pretraining_type)\n",
    "    \n",
    "    print(Alices_times_choice)\n",
    "    return model_Bob"
   ]
  },
  {
   "cell_type": "code",
   "execution_count": 180,
   "metadata": {
    "collapsed": true
   },
   "outputs": [],
   "source": [
    "models_Alices = [Alice_left_corner, Alice_right_corner]"
   ]
  },
  {
   "cell_type": "code",
   "execution_count": 181,
   "metadata": {
    "collapsed": false
   },
   "outputs": [],
   "source": [
    "import copy\n",
    "models_Bob = [copy.deepcopy(model_Bob)]"
   ]
  },
  {
   "cell_type": "code",
   "execution_count": 182,
   "metadata": {
    "collapsed": false
   },
   "outputs": [
    {
     "name": "stdout",
     "output_type": "stream",
     "text": [
      "defaultdict(<class 'int'>, {'left_top_corner': 544, 'right_bottom_corner': 456})\n",
      "defaultdict(<class 'int'>, {'left_top_corner': 512, 'right_bottom_corner': 488})\n",
      "defaultdict(<class 'int'>, {'left_top_corner': 538, 'right_bottom_corner': 462})\n"
     ]
    }
   ],
   "source": [
    "models_Bob.append(pretrain_model(env, 1, models_Alices, copy.deepcopy(model_Bob), 1000))\n",
    "models_Bob.append(pretrain_model(env, 2, models_Alices, copy.deepcopy(model_Bob), 1000))\n",
    "models_Bob.append(pretrain_model(env, 5, models_Alices, copy.deepcopy(model_Bob), 1000))"
   ]
  },
  {
   "cell_type": "code",
   "execution_count": 183,
   "metadata": {
    "collapsed": false
   },
   "outputs": [
    {
     "data": {
      "text/plain": [
       "False"
      ]
     },
     "execution_count": 183,
     "metadata": {},
     "output_type": "execute_result"
    }
   ],
   "source": [
    "models_Bob[0] == models_Bob[1]"
   ]
  },
  {
   "cell_type": "code",
   "execution_count": 184,
   "metadata": {
    "collapsed": false
   },
   "outputs": [
    {
     "data": {
      "text/plain": [
       "array([ 0.25,  0.25,  0.25,  0.25])"
      ]
     },
     "execution_count": 184,
     "metadata": {},
     "output_type": "execute_result"
    }
   ],
   "source": [
    "models_Bob[0].action_probs[5]"
   ]
  },
  {
   "cell_type": "code",
   "execution_count": 185,
   "metadata": {
    "collapsed": false
   },
   "outputs": [
    {
     "name": "stdout",
     "output_type": "stream",
     "text": [
      "Populating the interactive namespace from numpy and matplotlib\n"
     ]
    },
    {
     "name": "stderr",
     "output_type": "stream",
     "text": [
      "/Users/andrejklimkin/anaconda/lib/python3.5/site-packages/IPython/core/magics/pylab.py:161: UserWarning: pylab import has clobbered these variables: ['copy', 'choice']\n",
      "`%matplotlib` prevents importing * from pylab and numpy\n",
      "  \"\\n`%matplotlib` prevents importing * from pylab and numpy\"\n"
     ]
    },
    {
     "data": {
      "image/png": "[encoded data removed]",
      "text/plain": [
       "<matplotlib.figure.Figure at 0x10f5b6c18>"
      ]
     },
     "metadata": {},
     "output_type": "display_data"
    }
   ],
   "source": [
    "%pylab inline\n",
    "import matplotlib\n",
    "\n",
    "def draw_direction_probs(ax, env, s, p, scale_arrow=0.5, arrow_width=3, arrow_color='c', eps=1e-5):\n",
    "    i = (s) // env.shape[1]\n",
    "    j = (s) % env.shape[1]\n",
    "    \n",
    "    ax.arrow(j + 0.5, i + 0.5, p[1] * scale_arrow + eps, 0, linewidth=arrow_width, color=arrow_color, length_includes_head=True)\n",
    "    ax.arrow(j + 0.5, i + 0.5, 0, p[2] * scale_arrow + eps, linewidth=arrow_width, color=arrow_color, length_includes_head=True)\n",
    "    ax.arrow(j + 0.5, i + 0.5, -p[3] * scale_arrow + eps, 0, linewidth=arrow_width, color=arrow_color, length_includes_head=True)\n",
    "    ax.arrow(j + 0.5, i + 0.5, 0, -p[0] * scale_arrow + eps, linewidth=arrow_width, color=arrow_color, length_includes_head=True)\n",
    "\n",
    "    \n",
    "matplotlib.style.use(\"ggplot\")\n",
    "fig, ax = subplots(nrows=1, ncols=4, figsize=(16, 4))\n",
    "heat_map = np.zeros((5, 5))\n",
    "heat_map[0][0] += 1\n",
    "heat_map[4][4] += 1\n",
    "#ax[1].set_xticks(np.arange(0, 6))\n",
    "#ax[1].set_yticks(np.arange(0, 6))\n",
    "#ax[0].gca().invert_yaxis()\n",
    "#ax[1].gca().invert_yaxis()\n",
    "\n",
    "#ax.arrow(0 + 0.5, 0 + 0.5, 0, -1, linewidth=5, color='c', length_includes_head=True)\n",
    "for i, Bob_model in enumerate(models_Bob):\n",
    "    ax[i].set_xticks(np.arange(0, 6))\n",
    "    ax[i].set_yticks(np.arange(0, 6))\n",
    "    for s in range(0, env.nS):\n",
    "        if(s == 0 or s == 24):\n",
    "            continue\n",
    "        else:\n",
    "            draw_direction_probs(ax[i], env, s, Bob_model.action_probs[s], arrow_color='green')\n",
    "    ax[i].invert_yaxis()\n",
    "\n",
    "#ax[0].set_title(\"First Alice\", fontsize=11)\n",
    "#ax[1].set_title(\"Second Alice\", fontsize=11)\n",
    "#plt.savefig(\"presa_example\")"
   ]
  },
  {
   "cell_type": "code",
   "execution_count": null,
   "metadata": {
    "collapsed": true
   },
   "outputs": [],
   "source": []
  }
 ],
 "metadata": {
  "anaconda-cloud": {},
  "kernelspec": {
   "display_name": "Python [default]",
   "language": "python",
   "name": "python3"
  },
  "language_info": {
   "codemirror_mode": {
    "name": "ipython",
    "version": 3
   },
   "file_extension": ".py",
   "mimetype": "text/x-python",
   "name": "python",
   "nbconvert_exporter": "python",
   "pygments_lexer": "ipython3",
   "version": "3.5.2"
  }
 },
 "nbformat": 4,
 "nbformat_minor": 2
}
